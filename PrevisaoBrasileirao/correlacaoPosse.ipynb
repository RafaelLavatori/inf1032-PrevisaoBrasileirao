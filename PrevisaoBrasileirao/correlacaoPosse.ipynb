import pandas as pd
from scipy import stats
import numpy as np

df = pd.read_csv('PosseDeBola2016_2023.csv')

def calcular_correlacao(ano):
    df_ano = df[df['Ano'] == ano]
    return stats.pearsonr(df_ano['PercPosse'], df_ano['colocacao'])[0]

anos = df['Ano'].unique()
correlacoes = {ano: calcular_correlacao(ano) for ano in anos}

print("Índices de correlação por ano:")
for ano, corr in correlacoes.items():
    print(f"Ano {ano}: {corr:.4f}")

media_correlacoes = np.mean(list(correlacoes.values()))
print(f"Média das correlações: {media_correlacoes:.4f}")

anos = list(correlacoes.keys())
indices_correlacao = list(correlacoes.values())

plt.figure(figsize=(10, 6))
plt.plot(anos, indices_correlacao, marker='o', label='Correlação por ano')
plt.axhline(y=media_correlacoes, color='r', linestyle='--', label=f'Média ({media_correlacoes:.4f})')

plt.title("Índices de Correlação entre Posse de Bola e Colocação por Ano")
plt.xlabel("Ano")
plt.ylabel("Índice de Correlação")
plt.grid(True)
plt.xticks(anos)
plt.ylim(-1, 1)

for i, txt in enumerate(indices_correlacao):
    plt.annotate(f'{txt:.4f}', (anos[i], indices_correlacao[i]), xytext=(5, 5), 
                 textcoords='offset points', fontsize=9)

plt.legend()
plt.tight_layout()
plt.show()
